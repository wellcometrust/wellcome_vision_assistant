{
 "cells": [
  {
   "cell_type": "code",
   "execution_count": 2,
   "metadata": {},
   "outputs": [],
   "source": [
    "data = [\n",
    "    ('Monday 1st October', 'Vegetarian Day — \\\\ Meat Free Monday in Rooftops'),\n",
    "    ('Tuesday 2nd October ‘a', 'street Pop Up Black History Month a'),\n",
    "    ('Thursday 4th October', 'Breakfast Pop Up \"Omelette\"'),\n",
    "    ('Tuesday Sth October', 'Street Pop Up \" Pho Soup\"'),\n",
    "    ('Wednesday 10th October',\n",
    "    '\\\\ \"Lewis 8 Baker\" Hero Product Sampling Day mn Thursday 11th October Breakfast Pop Up \"American Pancakes Live”'),\n",
    "    ('Thursday 18th October', '“ Breakfast Pop Up \"Omelette\"'),\n",
    "    ('Friday 18th October',\n",
    "    'Celebrating Apple Day (21st) Get you Apple for Free!'),\n",
    "    ('Tuesday 23rd October', 'Street Pop Up \"Curry\"'),\n",
    "    ('Wednesday 24th October', '\"Stacks Gym Food Recipe in Cornerstones'),\n",
    "    ('Thursday 25th October', 'Breakfast Pop Up \"Burritos\"'),\n",
    "    ('Monday 28th October', 'UK Sausages Week'),\n",
    "    ('Tuesday 30th October', 'Street Pop Up \"Black History Month\"')\n",
    "]"
   ]
  },
  {
   "cell_type": "code",
   "execution_count": 14,
   "metadata": {},
   "outputs": [],
   "source": [
    "def parse_date(text):\n",
    "    day_name, day_month ,month, *_ = text.split() + [None]\n",
    "    return day_name, day_month[:-2], month\n",
    "\n",
    "def parse_food(text):\n",
    "    # location: rooftops or street\n",
    "    # time: breakfast, lunch\n",
    "    # dish: omeletter, curry etc\n",
    "    pass"
   ]
  },
  {
   "cell_type": "code",
   "execution_count": 15,
   "metadata": {},
   "outputs": [
    {
     "name": "stdout",
     "output_type": "stream",
     "text": [
      "('Monday', '1', 'October')\n",
      "('Tuesday', '2', 'October')\n",
      "('Thursday', '4', 'October')\n",
      "('Tuesday', 'S', 'October')\n",
      "('Wednesday', '10', 'October')\n",
      "('Thursday', '18', 'October')\n",
      "('Friday', '18', 'October')\n",
      "('Tuesday', '23', 'October')\n",
      "('Wednesday', '24', 'October')\n",
      "('Thursday', '25', 'October')\n",
      "('Monday', '28', 'October')\n",
      "('Tuesday', '30', 'October')\n"
     ]
    }
   ],
   "source": [
    "for date, _ in data:\n",
    "    print(parse_date(date))"
   ]
  },
  {
   "cell_type": "code",
   "execution_count": null,
   "metadata": {},
   "outputs": [],
   "source": []
  }
 ],
 "metadata": {
  "kernelspec": {
   "display_name": "Python 3",
   "language": "python",
   "name": "python3"
  },
  "language_info": {
   "codemirror_mode": {
    "name": "ipython",
    "version": 3
   },
   "file_extension": ".py",
   "mimetype": "text/x-python",
   "name": "python",
   "nbconvert_exporter": "python",
   "pygments_lexer": "ipython3",
   "version": "3.6.5"
  }
 },
 "nbformat": 4,
 "nbformat_minor": 2
}
