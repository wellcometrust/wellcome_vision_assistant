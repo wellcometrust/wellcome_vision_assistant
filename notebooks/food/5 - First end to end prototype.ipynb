{
 "cells": [
  {
   "cell_type": "code",
   "execution_count": 9,
   "metadata": {},
   "outputs": [],
   "source": [
    "try:\n",
    "    import Image\n",
    "except ImportError:\n",
    "    from PIL import Image\n",
    "import pytesseract\n",
    "import requests\n",
    "\n",
    "OAUTH_TOKEN = os.environ['OAUTH_TOKEN']\n",
    "ADD_REMINDERS_ENDPOINT = 'https://slack.com/api/reminders.add'"
   ]
  },
  {
   "cell_type": "code",
   "execution_count": 3,
   "metadata": {},
   "outputs": [],
   "source": [
    "def run_ocr(img_path, rotate=None):\n",
    "    img=Image.open(img_path)\n",
    "    \n",
    "    if rotate:\n",
    "        img = img.rotate(rotate)\n",
    "\n",
    "    ocr_text = pytesseract.image_to_string(img, lang='eng')\n",
    "    return ocr_text"
   ]
  },
  {
   "cell_type": "code",
   "execution_count": 4,
   "metadata": {},
   "outputs": [],
   "source": [
    "def is_date(text):\n",
    "    tokens = text.split() + [None]\n",
    "    return tokens[0] in ['Monday', 'Tuesday', 'Wednesday', 'Thursday', 'Friday', 'Saturday', 'Sunday']\n",
    "\n",
    "def text_to_menu_items(text):\n",
    "    text_lines = text.split('\\n')\n",
    "\n",
    "    menu_items_indices = []\n",
    "    for index, line in enumerate(text_lines):\n",
    "        if is_date(line):\n",
    "            menu_items_indices.append(index)\n",
    "    \n",
    "    menu_items = []\n",
    "    for index in range(len(menu_items_indices)-1):\n",
    "        start_index, end_index = menu_items_indices[index:index+2]\n",
    "        date_component = text_lines[start_index]\n",
    "        food_component = \" \".join(text_lines[start_index+1:end_index])\n",
    "        menu_items.append((date_component, food_component))\n",
    "    return menu_items"
   ]
  },
  {
   "cell_type": "code",
   "execution_count": 10,
   "metadata": {},
   "outputs": [],
   "source": [
    "def add_reminder(date, text):\n",
    "    headers = {\n",
    "        'Content-Type': 'application/x-www-form-urlencoded'\n",
    "    }\n",
    "    params = {\n",
    "        'time': f\"on {date}\",\n",
    "        'token': OAUTH_TOKEN,\n",
    "        'text': text,\n",
    "    }\n",
    "    response = requests.post(ADD_REMINDERS_ENDPOINT, headers=headers, params=params)\n",
    "    print(response.text)"
   ]
  },
  {
   "cell_type": "code",
   "execution_count": 15,
   "metadata": {},
   "outputs": [
    {
     "name": "stdout",
     "output_type": "stream",
     "text": [
      "{\"ok\":true,\"reminder\":{\"id\":\"RmEY1QSZ3L\",\"creator\":\"U8R740B99\",\"user\":\"U8R740B99\",\"text\":\"street Pop Up Black History Month a\",\"recurring\":false,\"time\":1570003200,\"complete_ts\":0}}\n"
     ]
    }
   ],
   "source": [
    "img_path = '../../data/october_food.png'\n",
    "ocr_text = run_ocr(img_path)\n",
    "date, food = text_to_menu_items(ocr_text)[1]\n",
    "add_reminder(date, food)"
   ]
  }
 ],
 "metadata": {
  "kernelspec": {
   "display_name": "Python 3",
   "language": "python",
   "name": "python3"
  },
  "language_info": {
   "codemirror_mode": {
    "name": "ipython",
    "version": 3
   },
   "file_extension": ".py",
   "mimetype": "text/x-python",
   "name": "python",
   "nbconvert_exporter": "python",
   "pygments_lexer": "ipython3",
   "version": "3.6.5"
  }
 },
 "nbformat": 4,
 "nbformat_minor": 2
}
