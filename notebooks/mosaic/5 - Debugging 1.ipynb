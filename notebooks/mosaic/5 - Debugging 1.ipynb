{
 "cells": [
  {
   "cell_type": "code",
   "execution_count": 5,
   "metadata": {},
   "outputs": [],
   "source": [
    "from bs4 import BeautifulSoup\n",
    "import requests"
   ]
  },
  {
   "cell_type": "code",
   "execution_count": 10,
   "metadata": {},
   "outputs": [],
   "source": [
    "dataset = [\n",
    "    ('most care leavers say they survived the system... i survived because of the system', 'https://mosaicscience.com/story/experience-expertise-care-health-research'),\n",
    "    ('searching for a diagnosis: how scientists are untangling the mystery of developmental disorders', 'https://mosaicscience.com/story/developmental-delay-disorders-milestones-childhood-genetic'),\n",
    "    ('why good people turn bad online', 'https://mosaicscience.com/story/why-good-people-turn-bad-online-science-trolls-abuse'),\n",
    "    ('sick building syndrome: is it the buildings or the people that need treatment', 'https://mosaicscience.com/story/sick-building-syndrome-buildings-or-people'),\n",
    "    ('what can we learn when a clinical trial is stopped', 'https://mosaicscience.com/story/deep-brain-stimulation-depression-clinical-trial'),\n",
    "    ('how can you treat someone who doesnt accept they are ill', 'https://mosaicscience.com/story/anosognosia-assisted-outpatient-treatment-lauras-law')\n",
    "]"
   ]
  },
  {
   "cell_type": "code",
   "execution_count": 11,
   "metadata": {},
   "outputs": [],
   "source": [
    "def find_mosaic_url(text, verbose=False):\n",
    "    google_url = 'https://www.google.co.uk/search'\n",
    "    mosaic_url = 'https://mosaicscience.com/'\n",
    "    params = {\n",
    "        'q': f\"site:{mosaic_url} {text}\"\n",
    "    }\n",
    "\n",
    "    response = requests.get(google_url, params=params)\n",
    "\n",
    "    soup = BeautifulSoup(response.text, 'html.parser')\n",
    "    first_result = soup.find('h3', {'class': 'r'})\n",
    "\n",
    "    if not first_result:\n",
    "        google_url = 'https://www.google.co.uk/search'\n",
    "        params = {\n",
    "            'q': f\"{ocr_text}\"\n",
    "        }\n",
    "\n",
    "        response = requests.get(google_url, params=params)\n",
    "\n",
    "        soup = BeautifulSoup(response.text, 'html.parser')\n",
    "        first_result = soup.find('h3', {'class': 'r'})\n",
    "\n",
    "    result_url = None\n",
    "    if first_result:\n",
    "        result_url = first_result.a['href'].split('/url?q=')[1].split('&')[0]\n",
    "        \n",
    "        \n",
    "    if verbose:\n",
    "        print(result_url)\n",
    "        \n",
    "    return result_url"
   ]
  },
  {
   "cell_type": "code",
   "execution_count": 12,
   "metadata": {},
   "outputs": [
    {
     "name": "stdout",
     "output_type": "stream",
     "text": [
      "https://mosaicscience.com/story/experience-expertise-care-health-research https://mosaicscience.com/story/experience-expertise-care-health-research True\n",
      "https://mosaicscience.com/story/developmental-delay-disorders-milestones-childhood-genetic https://mosaicscience.com/story/developmental-delay-disorders-milestones-childhood-genetic True\n",
      "https://mosaicscience.com/story/why-good-people-turn-bad-online-science-trolls-abuse https://mosaicscience.com/story/why-good-people-turn-bad-online-science-trolls-abuse True\n",
      "https://mosaicscience.com/story/sick-building-syndrome-buildings-or-people https://mosaicscience.com/story/sick-building-syndrome-buildings-or-people True\n",
      "https://mosaicscience.com/story/deep-brain-stimulation-depression-clinical-trial https://mosaicscience.com/story/deep-brain-stimulation-depression-clinical-trial True\n",
      "https://mosaicscience.com/story/anosognosia-assisted-outpatient-treatment-lauras-law https://mosaicscience.com/story/anosognosia-assisted-outpatient-treatment-lauras-law True\n"
     ]
    }
   ],
   "source": [
    "for text, mosaic_url in dataset:\n",
    "    retrieved_mosaic_url = find_mosaic_url(text)\n",
    "    \n",
    "    success = (mosaic_url==retrieved_mosaic_url)\n",
    "    print(mosaic_url, retrieved_mosaic_url, success)"
   ]
  },
  {
   "cell_type": "code",
   "execution_count": null,
   "metadata": {},
   "outputs": [],
   "source": []
  }
 ],
 "metadata": {
  "kernelspec": {
   "display_name": "Python 3",
   "language": "python",
   "name": "python3"
  },
  "language_info": {
   "codemirror_mode": {
    "name": "ipython",
    "version": 3
   },
   "file_extension": ".py",
   "mimetype": "text/x-python",
   "name": "python",
   "nbconvert_exporter": "python",
   "pygments_lexer": "ipython3",
   "version": "3.6.5"
  }
 },
 "nbformat": 4,
 "nbformat_minor": 2
}
