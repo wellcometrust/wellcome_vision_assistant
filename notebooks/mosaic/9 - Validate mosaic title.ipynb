{
 "cells": [
  {
   "cell_type": "code",
   "execution_count": 1,
   "metadata": {},
   "outputs": [],
   "source": [
    "from bs4 import BeautifulSoup\n",
    "import requests"
   ]
  },
  {
   "cell_type": "code",
   "execution_count": 45,
   "metadata": {},
   "outputs": [
    {
     "data": {
      "text/plain": [
       "'Violent crime is like infectious disease â\\x80\\x93 and we know how to stop it spreading | Mosaic'"
      ]
     },
     "execution_count": 45,
     "metadata": {},
     "output_type": "execute_result"
    }
   ],
   "source": [
    "response = requests.get('https://mosaicscience.com/story/violence-crime-knife-chicago-glasgow-gang-epidemic-gun-health-prevention/')\n",
    "html = response.text\n",
    "\n",
    "soup = BeautifulSoup(html, 'html.parser')\n",
    "soup.find('title').text"
   ]
  },
  {
   "cell_type": "code",
   "execution_count": 46,
   "metadata": {},
   "outputs": [],
   "source": [
    "mosaic_title = soup.find('title').text\n",
    "ocr_title = 'Violent crime is like infectious\\ndisease - and we know how to\\nstop it spreading'"
   ]
  },
  {
   "cell_type": "code",
   "execution_count": 47,
   "metadata": {},
   "outputs": [],
   "source": [
    "def clean_string(text):\n",
    "    if type(text)=='byte':\n",
    "        text = text.decode('ascii', 'ignore')\n",
    "    text = text.replace('\\n', ' ')\n",
    "    text = text.encode('ascii', 'ignore')\n",
    "    return text"
   ]
  },
  {
   "cell_type": "code",
   "execution_count": 48,
   "metadata": {},
   "outputs": [
    {
     "data": {
      "text/plain": [
       "'Violent crime is like infectious disease â\\x80\\x93 and we know how to stop it spreading | Mosaic'"
      ]
     },
     "execution_count": 48,
     "metadata": {},
     "output_type": "execute_result"
    }
   ],
   "source": [
    "mosaic_title"
   ]
  },
  {
   "cell_type": "code",
   "execution_count": 49,
   "metadata": {},
   "outputs": [
    {
     "name": "stdout",
     "output_type": "stream",
     "text": [
      "b'Violent crime is like infectious disease - and we know how to stop it spreading'\n",
      "b'Violent crime is like infectious disease  and we know how to stop it spreading | Mosaic'\n"
     ]
    }
   ],
   "source": [
    "ocr_title = clean_string(ocr_title)\n",
    "mosaic_title = clean_string(mosaic_title)\n",
    "\n",
    "print(ocr_title)\n",
    "print(mosaic_title)"
   ]
  },
  {
   "cell_type": "code",
   "execution_count": 53,
   "metadata": {},
   "outputs": [
    {
     "name": "stdout",
     "output_type": "stream",
     "text": [
      "0.8235294117647058\n"
     ]
    }
   ],
   "source": [
    "ocr_title_words = ocr_title.split()\n",
    "mosaic_title_words = mosaic_title.split()\n",
    "\n",
    "nb_unique_words = len(set(ocr_title_words).union(set(mosaic_title_words)))\n",
    "nb_common_words = len(set(ocr_title_words).intersection(set(mosaic_title_words)))\n",
    "\n",
    "print(nb_common_words/nb_unique_words)"
   ]
  }
 ],
 "metadata": {
  "kernelspec": {
   "display_name": "Python 3",
   "language": "python",
   "name": "python3"
  },
  "language_info": {
   "codemirror_mode": {
    "name": "ipython",
    "version": 3
   },
   "file_extension": ".py",
   "mimetype": "text/x-python",
   "name": "python",
   "nbconvert_exporter": "python",
   "pygments_lexer": "ipython3",
   "version": "3.6.5"
  }
 },
 "nbformat": 4,
 "nbformat_minor": 2
}
