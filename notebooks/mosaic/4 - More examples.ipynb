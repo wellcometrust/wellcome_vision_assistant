{
 "cells": [
  {
   "cell_type": "code",
   "execution_count": 1,
   "metadata": {},
   "outputs": [],
   "source": [
    "try:\n",
    "    import Image\n",
    "except ImportError:\n",
    "    from PIL import Image\n",
    "import pytesseract\n",
    "\n",
    "import matplotlib.pyplot as plt\n",
    "import matplotlib.image as mpimg\n",
    "import numpy as np\n",
    "\n",
    "from bs4 import BeautifulSoup\n",
    "import requests\n",
    "\n",
    "%matplotlib inline"
   ]
  },
  {
   "cell_type": "code",
   "execution_count": 2,
   "metadata": {},
   "outputs": [],
   "source": [
    "IMAGES_PATH = '../../data/mosaic/'\n",
    "\n",
    "def find_mosaic_url(img_path, verbose=False):\n",
    "    img=Image.open(img_path)\n",
    "    img = img.rotate(-90)\n",
    "\n",
    "    ocr_text = pytesseract.image_to_string(img)\n",
    "    ocr_title = ocr_text.split('\\n\\n')[0]\n",
    "\n",
    "    if verbose:\n",
    "        print(f\"OCR text: {ocr_text}\")\n",
    "        print(f\"OCR title: {ocr_title}\")\n",
    "        plt.imshow(np.asarray(img))\n",
    "    \n",
    "    google_url = 'https://www.google.co.uk/search'\n",
    "    mosaic_url = 'https://mosaicscience.com/'\n",
    "    params = {\n",
    "        'q': f\"site:{mosaic_url} {ocr_title}\"\n",
    "    }\n",
    "\n",
    "    response = requests.get(google_url, params=params)\n",
    "\n",
    "    soup = BeautifulSoup(response.text, 'html.parser')\n",
    "    first_result = soup.find('h3', {'class': 'r'})\n",
    "\n",
    "    if not first_result:\n",
    "        google_url = 'https://www.google.co.uk/search'\n",
    "        params = {\n",
    "            'q': f\"{ocr_text}\"\n",
    "        }\n",
    "\n",
    "        response = requests.get(google_url, params=params)\n",
    "\n",
    "        soup = BeautifulSoup(response.text, 'html.parser')\n",
    "        first_result = soup.find('h3', {'class': 'r'})\n",
    "\n",
    "    result_url = None\n",
    "    if first_result:\n",
    "        result_url = first_result.a['href'].split('/url?q=')[1].split('&')[0]\n",
    "        \n",
    "        \n",
    "    if verbose:\n",
    "        print(result_url)\n",
    "        \n",
    "    return result_url"
   ]
  },
  {
   "cell_type": "code",
   "execution_count": 3,
   "metadata": {},
   "outputs": [
    {
     "name": "stdout",
     "output_type": "stream",
     "text": [
      "IMG_3896.JPG https://mosaicscience.com/story/parkinsons-disease-psychosis https://mosaicscience.com/story/parkinsons-disease-psychosis True\n",
      "IMG_5346.JPG https://mosaicscience.com/story/experience-expertise-care-health-research https://mosaicscience.com/story/experience-expertise-care-health-research True\n",
      "IMG_1473.JPG https://mosaicscience.com/story/developmental-delay-disorders-milestones-childhood-genetic https://mosaicscience.com/story/developmental-delay-disorders-milestones-childhood-genetic True\n",
      "IMG_4463.JPG https://mosaicscience.com/story/why-good-people-turn-bad-online-science-trolls-abuse https://mosaicscience.com/story/why-good-people-turn-bad-online-science-trolls-abuse True\n",
      "IMG_4910.JPG https://mosaicscience.com/story/sick-building-syndrome-buildings-or-people https://mosaicscience.com/story/sick-building-syndrome-buildings-or-people True\n",
      "IMG_5888.JPG https://mosaicscience.com/story/deep-brain-stimulation-depression-clinical-trial https://mosaicscience.com/story/deep-brain-stimulation-depression-clinical-trial True\n",
      "IMG_4199.JPG https://mosaicscience.com/story/anosognosia-assisted-outpatient-treatment-lauras-law https://medicalxpress.com/news/2018-08-doesnt-ill.html False\n",
      "IMG_7357.JPG https://mosaicscience.com/story/gonorrhoea-gonorrhea-STI-Thailand-clap-USA-AMR-super https://mosaicscience.com/story/gonorrhoea-gonorrhea-STI-Thailand-clap-USA-AMR-super True\n",
      "IMG_1663.JPG https://mosaicscience.com/story/violence-crime-knife-chicago-glasgow-gang-epidemic-gun-health-prevention https://mosaicscience.com/story/violence-crime-knife-chicago-glasgow-gang-epidemic-gun-health-prevention True\n"
     ]
    }
   ],
   "source": [
    "dataset = [\n",
    "    ('IMG_3896.JPG', 'https://mosaicscience.com/story/parkinsons-disease-psychosis'),\n",
    "    ('IMG_5346.JPG', 'https://mosaicscience.com/story/experience-expertise-care-health-research'),\n",
    "    ('IMG_1473.JPG', 'https://mosaicscience.com/story/developmental-delay-disorders-milestones-childhood-genetic'),\n",
    "    ('IMG_4463.JPG', 'https://mosaicscience.com/story/why-good-people-turn-bad-online-science-trolls-abuse'),\n",
    "    ('IMG_4910.JPG', 'https://mosaicscience.com/story/sick-building-syndrome-buildings-or-people'),\n",
    "    ('IMG_5888.JPG', 'https://mosaicscience.com/story/deep-brain-stimulation-depression-clinical-trial'),\n",
    "    ('IMG_4199.JPG', 'https://mosaicscience.com/story/anosognosia-assisted-outpatient-treatment-lauras-law'),\n",
    "    ('IMG_7357.JPG', 'https://mosaicscience.com/story/gonorrhoea-gonorrhea-STI-Thailand-clap-USA-AMR-super'),\n",
    "    ('IMG_1663.JPG', 'https://mosaicscience.com/story/violence-crime-knife-chicago-glasgow-gang-epidemic-gun-health-prevention')\n",
    "]\n",
    "\n",
    "for img_name, mosaic_url in dataset:\n",
    "    img_path = f\"{IMAGES_PATH}/{img_name}\"\n",
    "    retrieved_mosaic_url = find_mosaic_url(img_path)\n",
    "    \n",
    "    success = (mosaic_url==retrieved_mosaic_url)\n",
    "    print(img_name, mosaic_url, retrieved_mosaic_url, success)"
   ]
  },
  {
   "cell_type": "code",
   "execution_count": null,
   "metadata": {},
   "outputs": [],
   "source": []
  }
 ],
 "metadata": {
  "kernelspec": {
   "display_name": "Python 3",
   "language": "python",
   "name": "python3"
  },
  "language_info": {
   "codemirror_mode": {
    "name": "ipython",
    "version": 3
   },
   "file_extension": ".py",
   "mimetype": "text/x-python",
   "name": "python",
   "nbconvert_exporter": "python",
   "pygments_lexer": "ipython3",
   "version": "3.6.5"
  }
 },
 "nbformat": 4,
 "nbformat_minor": 2
}
