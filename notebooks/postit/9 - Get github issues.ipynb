{
 "cells": [
  {
   "cell_type": "code",
   "execution_count": 28,
   "metadata": {},
   "outputs": [],
   "source": [
    "import requests\n",
    "import sys\n",
    "\n",
    "\n",
    "GITHUB_OAUTH_TOKEN = \"17a659de757b0ac24e3d5448d1286580080a44a6\"\n",
    "GITHUB_USER = \"nsorros\"\n",
    "GITHUB_REPO = \"postit\"\n",
    "\n",
    "\n",
    "headers = {\n",
    "    'Authorization': f'token {GITHUB_OAUTH_TOKEN}'\n",
    "}\n",
    "\n",
    "issues_url = f'https://api.github.com/repos/{GITHUB_USER}/{GITHUB_REPO}/issues'\n",
    "\n",
    "\n",
    "issue_list = requests.get(issues_url, headers=headers)\n",
    "issues = [\n",
    "    {'number': issue['number'], 'title': issue['title']}\n",
    "    for issue in issue_list.json()\n",
    "]"
   ]
  },
  {
   "cell_type": "code",
   "execution_count": 29,
   "metadata": {},
   "outputs": [
    {
     "data": {
      "text/plain": [
       "[{'number': 5, 'title': 'This is in progress'},\n",
       " {'number': 4, 'title': 'This is also in progress'},\n",
       " {'number': 3, 'title': 'This issue needs to remain open'},\n",
       " {'number': 2, 'title': 'This is an issue that i want to close'}]"
      ]
     },
     "execution_count": 29,
     "metadata": {},
     "output_type": "execute_result"
    }
   ],
   "source": [
    "issues"
   ]
  },
  {
   "cell_type": "code",
   "execution_count": 33,
   "metadata": {},
   "outputs": [
    {
     "data": {
      "text/plain": [
       "<Response [200]>"
      ]
     },
     "execution_count": 33,
     "metadata": {},
     "output_type": "execute_result"
    }
   ],
   "source": [
    "issue_number = 3\n",
    "issue_url = f'{issues_url}/{issue_number}'\n",
    "params = {'state': 'closed'}\n",
    "requests.patch(issue_url, headers=headers, json=params)"
   ]
  },
  {
   "cell_type": "code",
   "execution_count": null,
   "metadata": {},
   "outputs": [],
   "source": []
  }
 ],
 "metadata": {
  "kernelspec": {
   "display_name": "Python 3",
   "language": "python",
   "name": "python3"
  },
  "language_info": {
   "codemirror_mode": {
    "name": "ipython",
    "version": 3
   },
   "file_extension": ".py",
   "mimetype": "text/x-python",
   "name": "python",
   "nbconvert_exporter": "python",
   "pygments_lexer": "ipython3",
   "version": "3.6.5"
  }
 },
 "nbformat": 4,
 "nbformat_minor": 2
}
