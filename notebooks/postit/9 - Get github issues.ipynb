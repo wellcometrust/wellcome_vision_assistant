{
 "cells": [
  {
   "cell_type": "code",
   "execution_count": 2,
   "metadata": {},
   "outputs": [],
   "source": [
    "import requests\n",
    "import sys\n",
    "import os\n",
    "\n",
    "GITHUB_OAUTH_TOKEN = os.environ['GITHUB_OAUTH_TOKEN']\n",
    "GITHUB_USER = os.environ['GITHUB_USER']\n",
    "GITHUB_REPO = os.environ['GITHUB_REPO']\n",
    "\n",
    "\n",
    "headers = {\n",
    "    'Authorization': f'token {GITHUB_OAUTH_TOKEN}'\n",
    "}\n",
    "\n",
    "issues_url = f'https://api.github.com/repos/{GITHUB_USER}/{GITHUB_REPO}/issues'\n",
    "\n",
    "\n",
    "issue_list = requests.get(issues_url, headers=headers)\n",
    "issues = [\n",
    "    {'number': issue['number'], 'title': issue['title']}\n",
    "    for issue in issue_list.json()\n",
    "]"
   ]
  },
  {
   "cell_type": "code",
   "execution_count": 3,
   "metadata": {},
   "outputs": [
    {
     "data": {
      "text/plain": [
       "[{'number': 5, 'title': 'This is in progress'},\n",
       " {'number': 3, 'title': 'This issue needs to remain open'},\n",
       " {'number': 2, 'title': 'This is an issue that i want to close'},\n",
       " {'number': 1, 'title': 'This is the first issue'}]"
      ]
     },
     "execution_count": 3,
     "metadata": {},
     "output_type": "execute_result"
    }
   ],
   "source": [
    "issues"
   ]
  },
  {
   "cell_type": "code",
   "execution_count": 4,
   "metadata": {},
   "outputs": [
    {
     "data": {
      "text/plain": [
       "<Response [200]>"
      ]
     },
     "execution_count": 4,
     "metadata": {},
     "output_type": "execute_result"
    }
   ],
   "source": [
    "issue_number = 3\n",
    "issue_url = f'{issues_url}/{issue_number}'\n",
    "params = {'state': 'closed'}\n",
    "requests.patch(issue_url, headers=headers, json=params)"
   ]
  },
  {
   "cell_type": "code",
   "execution_count": null,
   "metadata": {},
   "outputs": [],
   "source": []
  }
 ],
 "metadata": {
  "kernelspec": {
   "display_name": "Python 3",
   "language": "python",
   "name": "python3"
  },
  "language_info": {
   "codemirror_mode": {
    "name": "ipython",
    "version": 3
   },
   "file_extension": ".py",
   "mimetype": "text/x-python",
   "name": "python",
   "nbconvert_exporter": "python",
   "pygments_lexer": "ipython3",
   "version": "3.6.5"
  }
 },
 "nbformat": 4,
 "nbformat_minor": 2
}
