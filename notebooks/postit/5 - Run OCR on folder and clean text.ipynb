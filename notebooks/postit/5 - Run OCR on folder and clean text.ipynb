{
 "cells": [
  {
   "cell_type": "code",
   "execution_count": 1,
   "metadata": {},
   "outputs": [],
   "source": [
    "import io\n",
    "import os\n",
    "import time\n",
    "import re\n",
    "\n",
    "import pandas as pd\n",
    "from gensim.parsing.preprocessing import remove_stopwords, strip_punctuation, \\\n",
    "    strip_multiple_whitespaces, stem_text, strip_tags, strip_short"
   ]
  },
  {
   "cell_type": "code",
   "execution_count": 2,
   "metadata": {},
   "outputs": [],
   "source": [
    "def detect_handwritten_ocr(path, verbose=False):\n",
    "    \"\"\"Detects handwritten characters in a local image.\n",
    "\n",
    "    Args:\n",
    "    path: The path to the local file.\n",
    "    \"\"\"\n",
    "    from google.cloud import vision_v1p3beta1 as vision\n",
    "    client = vision.ImageAnnotatorClient()\n",
    "\n",
    "    with io.open(path, 'rb') as image_file:\n",
    "        content = image_file.read()\n",
    "\n",
    "    image = vision.types.Image(content=content)\n",
    "\n",
    "    # Language hint codes for handwritten OCR:\n",
    "    # en-t-i0-handwrit, mul-Latn-t-i0-handwrit\n",
    "    # Note: Use only one language hint code per request for handwritten OCR.\n",
    "    image_context = vision.types.ImageContext(\n",
    "        language_hints=['en-t-i0-handwrit'])\n",
    "\n",
    "    response = client.document_text_detection(image=image,\n",
    "                                              image_context=image_context)\n",
    "\n",
    "    if verbose:\n",
    "        print('Full Text: {}'.format(response.full_text_annotation.text))\n",
    "\n",
    "        for page in response.full_text_annotation.pages:\n",
    "            for block in page.blocks:\n",
    "                print('\\nBlock confidence: {}\\n'.format(block.confidence))\n",
    "\n",
    "                for paragraph in block.paragraphs:\n",
    "                    print('Paragraph confidence: {}'.format(\n",
    "                        paragraph.confidence))\n",
    "\n",
    "                    for word in paragraph.words:\n",
    "                        word_text = ''.join([\n",
    "                            symbol.text for symbol in word.symbols\n",
    "                        ])\n",
    "                        print('Word text: {} (confidence: {})'.format(\n",
    "                            word_text, word.confidence))\n",
    "\n",
    "                        for symbol in word.symbols:\n",
    "                            print('\\tSymbol: {} (confidence: {})'.format(\n",
    "                                symbol.text, symbol.confidence))\n",
    "    \n",
    "    return response.full_text_annotation.text"
   ]
  },
  {
   "cell_type": "code",
   "execution_count": 3,
   "metadata": {},
   "outputs": [
    {
     "name": "stdout",
     "output_type": "stream",
     "text": [
      "/Users/sorrosn/Desktop/ocr_images/postits/data_priority_area_all/notes/note01 [Data cleaning].jpg\n",
      "/Users/sorrosn/Desktop/ocr_images/postits/data_priority_area_all/notes/note02 [Data cleaning].jpg\n",
      "/Users/sorrosn/Desktop/ocr_images/postits/data_priority_area_all/notes/note03 [Data cleaning].jpg\n",
      "/Users/sorrosn/Desktop/ocr_images/postits/data_priority_area_all/notes/note04 [Data cleaning].jpg\n",
      "/Users/sorrosn/Desktop/ocr_images/postits/data_priority_area_all/notes/note05 [Data cleaning].jpg\n",
      "/Users/sorrosn/Desktop/ocr_images/postits/data_priority_area_all/notes/note06 [Data cleaning].jpg\n",
      "/Users/sorrosn/Desktop/ocr_images/postits/data_priority_area_all/notes/note07 [Data cleaning].jpg\n",
      "/Users/sorrosn/Desktop/ocr_images/postits/data_priority_area_all/notes/note08 [Data cleaning].jpg\n",
      "/Users/sorrosn/Desktop/ocr_images/postits/data_priority_area_all/notes/note09 [Data cleaning].jpg\n",
      "/Users/sorrosn/Desktop/ocr_images/postits/data_priority_area_all/notes/note10 [Data cleaning].jpg\n",
      "/Users/sorrosn/Desktop/ocr_images/postits/data_priority_area_all/notes/note100 [Data counceling].jpg\n",
      "/Users/sorrosn/Desktop/ocr_images/postits/data_priority_area_all/notes/note101 [Data counceling].jpg\n",
      "/Users/sorrosn/Desktop/ocr_images/postits/data_priority_area_all/notes/note102 [Data counceling].jpg\n",
      "/Users/sorrosn/Desktop/ocr_images/postits/data_priority_area_all/notes/note103 [Data counceling].jpg\n",
      "/Users/sorrosn/Desktop/ocr_images/postits/data_priority_area_all/notes/note104 [Data counceling].jpg\n",
      "/Users/sorrosn/Desktop/ocr_images/postits/data_priority_area_all/notes/note105 [Data counceling].jpg\n",
      "/Users/sorrosn/Desktop/ocr_images/postits/data_priority_area_all/notes/note106 [Data counceling].jpg\n",
      "/Users/sorrosn/Desktop/ocr_images/postits/data_priority_area_all/notes/note107 [Data counceling].jpg\n",
      "/Users/sorrosn/Desktop/ocr_images/postits/data_priority_area_all/notes/note108 [Data counceling].jpg\n",
      "/Users/sorrosn/Desktop/ocr_images/postits/data_priority_area_all/notes/note109 [Data counceling].jpg\n",
      "/Users/sorrosn/Desktop/ocr_images/postits/data_priority_area_all/notes/note11 [Data cleaning].jpg\n",
      "/Users/sorrosn/Desktop/ocr_images/postits/data_priority_area_all/notes/note110 [Data counceling].jpg\n",
      "/Users/sorrosn/Desktop/ocr_images/postits/data_priority_area_all/notes/note111 [Data counceling].jpg\n",
      "/Users/sorrosn/Desktop/ocr_images/postits/data_priority_area_all/notes/note112 [Data counceling].jpg\n",
      "/Users/sorrosn/Desktop/ocr_images/postits/data_priority_area_all/notes/note113 [Data counceling].jpg\n",
      "/Users/sorrosn/Desktop/ocr_images/postits/data_priority_area_all/notes/note114 [Data counceling].jpg\n",
      "/Users/sorrosn/Desktop/ocr_images/postits/data_priority_area_all/notes/note115 [Data counceling].jpg\n",
      "/Users/sorrosn/Desktop/ocr_images/postits/data_priority_area_all/notes/note116 [Data counceling].jpg\n",
      "/Users/sorrosn/Desktop/ocr_images/postits/data_priority_area_all/notes/note117 [Data counceling].jpg\n",
      "/Users/sorrosn/Desktop/ocr_images/postits/data_priority_area_all/notes/note118 [Data counceling].jpg\n",
      "/Users/sorrosn/Desktop/ocr_images/postits/data_priority_area_all/notes/note119 [Data counceling].jpg\n",
      "/Users/sorrosn/Desktop/ocr_images/postits/data_priority_area_all/notes/note12 [Data cleaning].jpg\n",
      "/Users/sorrosn/Desktop/ocr_images/postits/data_priority_area_all/notes/note120 [Data counceling].jpg\n",
      "/Users/sorrosn/Desktop/ocr_images/postits/data_priority_area_all/notes/note121 [Data counceling].jpg\n",
      "/Users/sorrosn/Desktop/ocr_images/postits/data_priority_area_all/notes/note122 [Data counceling].jpg\n",
      "/Users/sorrosn/Desktop/ocr_images/postits/data_priority_area_all/notes/note123 [Data counceling].jpg\n",
      "/Users/sorrosn/Desktop/ocr_images/postits/data_priority_area_all/notes/note124 [Data counceling].jpg\n",
      "/Users/sorrosn/Desktop/ocr_images/postits/data_priority_area_all/notes/note125 [Data counceling].jpg\n",
      "/Users/sorrosn/Desktop/ocr_images/postits/data_priority_area_all/notes/note126 [Data counceling].jpg\n",
      "/Users/sorrosn/Desktop/ocr_images/postits/data_priority_area_all/notes/note127 [Data counceling].jpg\n",
      "/Users/sorrosn/Desktop/ocr_images/postits/data_priority_area_all/notes/note128 [Data counceling].jpg\n",
      "/Users/sorrosn/Desktop/ocr_images/postits/data_priority_area_all/notes/note129 [Patient research tools].jpg\n",
      "/Users/sorrosn/Desktop/ocr_images/postits/data_priority_area_all/notes/note13 [Data cleaning].jpg\n",
      "/Users/sorrosn/Desktop/ocr_images/postits/data_priority_area_all/notes/note130 [Patient research tools].jpg\n",
      "/Users/sorrosn/Desktop/ocr_images/postits/data_priority_area_all/notes/note131 [Patient research tools].jpg\n",
      "/Users/sorrosn/Desktop/ocr_images/postits/data_priority_area_all/notes/note132 [Patient research tools].jpg\n",
      "/Users/sorrosn/Desktop/ocr_images/postits/data_priority_area_all/notes/note133 [Patient research tools].jpg\n",
      "/Users/sorrosn/Desktop/ocr_images/postits/data_priority_area_all/notes/note134 [Patient research tools].jpg\n",
      "/Users/sorrosn/Desktop/ocr_images/postits/data_priority_area_all/notes/note135 [Patient research tools].jpg\n",
      "/Users/sorrosn/Desktop/ocr_images/postits/data_priority_area_all/notes/note136 [Patient research tools].jpg\n",
      "/Users/sorrosn/Desktop/ocr_images/postits/data_priority_area_all/notes/note137 [Patient research tools].jpg\n",
      "/Users/sorrosn/Desktop/ocr_images/postits/data_priority_area_all/notes/note138 [Data standards].jpg\n",
      "/Users/sorrosn/Desktop/ocr_images/postits/data_priority_area_all/notes/note139 [Data standards].jpg\n",
      "/Users/sorrosn/Desktop/ocr_images/postits/data_priority_area_all/notes/note14 [Data cleaning].jpg\n",
      "/Users/sorrosn/Desktop/ocr_images/postits/data_priority_area_all/notes/note140 [Data standards].jpg\n",
      "/Users/sorrosn/Desktop/ocr_images/postits/data_priority_area_all/notes/note141 [Data standards].jpg\n",
      "/Users/sorrosn/Desktop/ocr_images/postits/data_priority_area_all/notes/note142 [Data standards].jpg\n",
      "/Users/sorrosn/Desktop/ocr_images/postits/data_priority_area_all/notes/note143 [Data standards].jpg\n",
      "/Users/sorrosn/Desktop/ocr_images/postits/data_priority_area_all/notes/note144 [Data standards].jpg\n",
      "/Users/sorrosn/Desktop/ocr_images/postits/data_priority_area_all/notes/note145 [Data standards].jpg\n",
      "/Users/sorrosn/Desktop/ocr_images/postits/data_priority_area_all/notes/note146 [Data standards].jpg\n",
      "/Users/sorrosn/Desktop/ocr_images/postits/data_priority_area_all/notes/note147 [Data standards].jpg\n",
      "/Users/sorrosn/Desktop/ocr_images/postits/data_priority_area_all/notes/note148 [Data standards].jpg\n",
      "/Users/sorrosn/Desktop/ocr_images/postits/data_priority_area_all/notes/note149 [Data standards].jpg\n",
      "/Users/sorrosn/Desktop/ocr_images/postits/data_priority_area_all/notes/note15 [Data cleaning].jpg\n",
      "/Users/sorrosn/Desktop/ocr_images/postits/data_priority_area_all/notes/note150 [Data standards].jpg\n",
      "/Users/sorrosn/Desktop/ocr_images/postits/data_priority_area_all/notes/note151 [Data standards].jpg\n",
      "/Users/sorrosn/Desktop/ocr_images/postits/data_priority_area_all/notes/note152 [Data standards].jpg\n",
      "/Users/sorrosn/Desktop/ocr_images/postits/data_priority_area_all/notes/note153 [Data standards].jpg\n",
      "/Users/sorrosn/Desktop/ocr_images/postits/data_priority_area_all/notes/note154 [Data standards].jpg\n",
      "/Users/sorrosn/Desktop/ocr_images/postits/data_priority_area_all/notes/note155 [Data standards].jpg\n",
      "/Users/sorrosn/Desktop/ocr_images/postits/data_priority_area_all/notes/note156 [Data standards].jpg\n",
      "/Users/sorrosn/Desktop/ocr_images/postits/data_priority_area_all/notes/note157 [Data standards].jpg\n",
      "/Users/sorrosn/Desktop/ocr_images/postits/data_priority_area_all/notes/note158 [Data standards].jpg\n",
      "/Users/sorrosn/Desktop/ocr_images/postits/data_priority_area_all/notes/note159 [Data standards].jpg\n",
      "/Users/sorrosn/Desktop/ocr_images/postits/data_priority_area_all/notes/note16 [Data cleaning].jpg\n",
      "/Users/sorrosn/Desktop/ocr_images/postits/data_priority_area_all/notes/note160 [Data standards].jpg\n",
      "/Users/sorrosn/Desktop/ocr_images/postits/data_priority_area_all/notes/note161 [Data standards].jpg\n",
      "/Users/sorrosn/Desktop/ocr_images/postits/data_priority_area_all/notes/note162 [Data standards].jpg\n",
      "/Users/sorrosn/Desktop/ocr_images/postits/data_priority_area_all/notes/note163 [Data standards].jpg\n",
      "/Users/sorrosn/Desktop/ocr_images/postits/data_priority_area_all/notes/note164 [Data standards].jpg\n",
      "/Users/sorrosn/Desktop/ocr_images/postits/data_priority_area_all/notes/note165 [Data sharing].jpg\n",
      "/Users/sorrosn/Desktop/ocr_images/postits/data_priority_area_all/notes/note166 [Data sharing].jpg\n",
      "/Users/sorrosn/Desktop/ocr_images/postits/data_priority_area_all/notes/note167 [Data sharing].jpg\n",
      "/Users/sorrosn/Desktop/ocr_images/postits/data_priority_area_all/notes/note168 [Data sharing].jpg\n",
      "/Users/sorrosn/Desktop/ocr_images/postits/data_priority_area_all/notes/note169 [Data sharing].jpg\n",
      "/Users/sorrosn/Desktop/ocr_images/postits/data_priority_area_all/notes/note17 [Data cleaning].jpg\n",
      "/Users/sorrosn/Desktop/ocr_images/postits/data_priority_area_all/notes/note170 [Data sharing].jpg\n",
      "/Users/sorrosn/Desktop/ocr_images/postits/data_priority_area_all/notes/note171 [Data sharing].jpg\n",
      "/Users/sorrosn/Desktop/ocr_images/postits/data_priority_area_all/notes/note172 [Data sharing].jpg\n",
      "/Users/sorrosn/Desktop/ocr_images/postits/data_priority_area_all/notes/note173 [Data sharing].jpg\n",
      "/Users/sorrosn/Desktop/ocr_images/postits/data_priority_area_all/notes/note174 [Data sharing].jpg\n",
      "/Users/sorrosn/Desktop/ocr_images/postits/data_priority_area_all/notes/note175 [Data sharing].jpg\n",
      "/Users/sorrosn/Desktop/ocr_images/postits/data_priority_area_all/notes/note176 [Data sharing].jpg\n",
      "/Users/sorrosn/Desktop/ocr_images/postits/data_priority_area_all/notes/note177 [Data sharing].jpg\n",
      "/Users/sorrosn/Desktop/ocr_images/postits/data_priority_area_all/notes/note178 [Data sharing].jpg\n",
      "/Users/sorrosn/Desktop/ocr_images/postits/data_priority_area_all/notes/note18 [Data cleaning].jpg\n",
      "/Users/sorrosn/Desktop/ocr_images/postits/data_priority_area_all/notes/note19 [Data cleaning].jpg\n",
      "/Users/sorrosn/Desktop/ocr_images/postits/data_priority_area_all/notes/note20 [Data cleaning].jpg\n",
      "/Users/sorrosn/Desktop/ocr_images/postits/data_priority_area_all/notes/note21 [Data cleaning].jpg\n",
      "/Users/sorrosn/Desktop/ocr_images/postits/data_priority_area_all/notes/note22 [Data cleaning].jpg\n",
      "/Users/sorrosn/Desktop/ocr_images/postits/data_priority_area_all/notes/note23 [Data cleaning].jpg\n",
      "/Users/sorrosn/Desktop/ocr_images/postits/data_priority_area_all/notes/note24 [Data cleaning].jpg\n",
      "/Users/sorrosn/Desktop/ocr_images/postits/data_priority_area_all/notes/note25 [Data cleaning].jpg\n",
      "/Users/sorrosn/Desktop/ocr_images/postits/data_priority_area_all/notes/note26 [Data cleaning].jpg\n",
      "/Users/sorrosn/Desktop/ocr_images/postits/data_priority_area_all/notes/note27 [Data cleaning].jpg\n",
      "/Users/sorrosn/Desktop/ocr_images/postits/data_priority_area_all/notes/note28 [Data cleaning].jpg\n",
      "/Users/sorrosn/Desktop/ocr_images/postits/data_priority_area_all/notes/note29 [Data cleaning].jpg\n",
      "/Users/sorrosn/Desktop/ocr_images/postits/data_priority_area_all/notes/note30 [Trust and privacy].jpg\n",
      "/Users/sorrosn/Desktop/ocr_images/postits/data_priority_area_all/notes/note31 [Trust and privacy].jpg\n",
      "/Users/sorrosn/Desktop/ocr_images/postits/data_priority_area_all/notes/note32 [Trust and privacy].jpg\n",
      "/Users/sorrosn/Desktop/ocr_images/postits/data_priority_area_all/notes/note33 [Trust and privacy].jpg\n",
      "/Users/sorrosn/Desktop/ocr_images/postits/data_priority_area_all/notes/note34 [Trust and privacy].jpg\n",
      "/Users/sorrosn/Desktop/ocr_images/postits/data_priority_area_all/notes/note35 [Trust and privacy].jpg\n",
      "/Users/sorrosn/Desktop/ocr_images/postits/data_priority_area_all/notes/note36 [Trust and privacy].jpg\n",
      "/Users/sorrosn/Desktop/ocr_images/postits/data_priority_area_all/notes/note37 [Trust and privacy].jpg\n",
      "/Users/sorrosn/Desktop/ocr_images/postits/data_priority_area_all/notes/note38 [Trust and privacy].jpg\n",
      "/Users/sorrosn/Desktop/ocr_images/postits/data_priority_area_all/notes/note39 [Trust and privacy].jpg\n",
      "/Users/sorrosn/Desktop/ocr_images/postits/data_priority_area_all/notes/note40 [Trust and privacy].jpg\n",
      "/Users/sorrosn/Desktop/ocr_images/postits/data_priority_area_all/notes/note41 [Trust and privacy].jpg\n",
      "/Users/sorrosn/Desktop/ocr_images/postits/data_priority_area_all/notes/note42 [Trust and privacy].jpg\n",
      "/Users/sorrosn/Desktop/ocr_images/postits/data_priority_area_all/notes/note43 [Trust and privacy].jpg\n",
      "/Users/sorrosn/Desktop/ocr_images/postits/data_priority_area_all/notes/note44 [Trust and privacy].jpg\n",
      "/Users/sorrosn/Desktop/ocr_images/postits/data_priority_area_all/notes/note45 [Trust and privacy].jpg\n",
      "/Users/sorrosn/Desktop/ocr_images/postits/data_priority_area_all/notes/note46 [Trust and privacy].jpg\n",
      "/Users/sorrosn/Desktop/ocr_images/postits/data_priority_area_all/notes/note47 [Trust and privacy].jpg\n",
      "/Users/sorrosn/Desktop/ocr_images/postits/data_priority_area_all/notes/note48 [Trust and privacy].jpg\n",
      "/Users/sorrosn/Desktop/ocr_images/postits/data_priority_area_all/notes/note49 [Open EHR].jpg\n",
      "/Users/sorrosn/Desktop/ocr_images/postits/data_priority_area_all/notes/note50 [Open EHR].jpg\n",
      "/Users/sorrosn/Desktop/ocr_images/postits/data_priority_area_all/notes/note51 [Open EHR].jpg\n",
      "/Users/sorrosn/Desktop/ocr_images/postits/data_priority_area_all/notes/note52 [Open EHR].jpg\n",
      "/Users/sorrosn/Desktop/ocr_images/postits/data_priority_area_all/notes/note53 [Open EHR].jpg\n",
      "/Users/sorrosn/Desktop/ocr_images/postits/data_priority_area_all/notes/note54 [Open EHR].jpg\n",
      "/Users/sorrosn/Desktop/ocr_images/postits/data_priority_area_all/notes/note55 [Open EHR].jpg\n",
      "/Users/sorrosn/Desktop/ocr_images/postits/data_priority_area_all/notes/note56 [Open EHR].jpg\n",
      "/Users/sorrosn/Desktop/ocr_images/postits/data_priority_area_all/notes/note57 [Open EHR].jpg\n",
      "/Users/sorrosn/Desktop/ocr_images/postits/data_priority_area_all/notes/note58 [Open EHR].jpg\n",
      "/Users/sorrosn/Desktop/ocr_images/postits/data_priority_area_all/notes/note59 [Open EHR].jpg\n",
      "/Users/sorrosn/Desktop/ocr_images/postits/data_priority_area_all/notes/note60 [Open EHR].jpg\n",
      "/Users/sorrosn/Desktop/ocr_images/postits/data_priority_area_all/notes/note61 [Open EHR].jpg\n"
     ]
    },
    {
     "name": "stderr",
     "output_type": "stream",
     "text": [
      "/Users/sorrosn/.virtualenvs/postit/lib/python3.6/site-packages/google/auth/_default.py:66: UserWarning: Your application has authenticated using end user credentials from Google Cloud SDK. We recommend that most server applications use service accounts instead. If your application continues to use end user credentials from Cloud SDK, you might receive a \"quota exceeded\" or \"API not enabled\" error. For more information about service accounts, see https://cloud.google.com/docs/authentication/.\n",
      "  warnings.warn(_CLOUD_SDK_CREDENTIALS_WARNING)\n"
     ]
    },
    {
     "name": "stdout",
     "output_type": "stream",
     "text": [
      "/Users/sorrosn/Desktop/ocr_images/postits/data_priority_area_all/notes/note62 [Open EHR].jpg\n"
     ]
    },
    {
     "name": "stderr",
     "output_type": "stream",
     "text": [
      "/Users/sorrosn/.virtualenvs/postit/lib/python3.6/site-packages/google/auth/_default.py:66: UserWarning: Your application has authenticated using end user credentials from Google Cloud SDK. We recommend that most server applications use service accounts instead. If your application continues to use end user credentials from Cloud SDK, you might receive a \"quota exceeded\" or \"API not enabled\" error. For more information about service accounts, see https://cloud.google.com/docs/authentication/.\n",
      "  warnings.warn(_CLOUD_SDK_CREDENTIALS_WARNING)\n"
     ]
    },
    {
     "name": "stdout",
     "output_type": "stream",
     "text": [
      "/Users/sorrosn/Desktop/ocr_images/postits/data_priority_area_all/notes/note63 [Open EHR].jpg\n"
     ]
    },
    {
     "name": "stderr",
     "output_type": "stream",
     "text": [
      "/Users/sorrosn/.virtualenvs/postit/lib/python3.6/site-packages/google/auth/_default.py:66: UserWarning: Your application has authenticated using end user credentials from Google Cloud SDK. We recommend that most server applications use service accounts instead. If your application continues to use end user credentials from Cloud SDK, you might receive a \"quota exceeded\" or \"API not enabled\" error. For more information about service accounts, see https://cloud.google.com/docs/authentication/.\n",
      "  warnings.warn(_CLOUD_SDK_CREDENTIALS_WARNING)\n"
     ]
    },
    {
     "name": "stdout",
     "output_type": "stream",
     "text": [
      "/Users/sorrosn/Desktop/ocr_images/postits/data_priority_area_all/notes/note64 [Open EHR].jpg\n"
     ]
    },
    {
     "name": "stderr",
     "output_type": "stream",
     "text": [
      "/Users/sorrosn/.virtualenvs/postit/lib/python3.6/site-packages/google/auth/_default.py:66: UserWarning: Your application has authenticated using end user credentials from Google Cloud SDK. We recommend that most server applications use service accounts instead. If your application continues to use end user credentials from Cloud SDK, you might receive a \"quota exceeded\" or \"API not enabled\" error. For more information about service accounts, see https://cloud.google.com/docs/authentication/.\n",
      "  warnings.warn(_CLOUD_SDK_CREDENTIALS_WARNING)\n"
     ]
    },
    {
     "name": "stdout",
     "output_type": "stream",
     "text": [
      "/Users/sorrosn/Desktop/ocr_images/postits/data_priority_area_all/notes/note65 [Open EHR].jpg\n"
     ]
    },
    {
     "name": "stderr",
     "output_type": "stream",
     "text": [
      "/Users/sorrosn/.virtualenvs/postit/lib/python3.6/site-packages/google/auth/_default.py:66: UserWarning: Your application has authenticated using end user credentials from Google Cloud SDK. We recommend that most server applications use service accounts instead. If your application continues to use end user credentials from Cloud SDK, you might receive a \"quota exceeded\" or \"API not enabled\" error. For more information about service accounts, see https://cloud.google.com/docs/authentication/.\n",
      "  warnings.warn(_CLOUD_SDK_CREDENTIALS_WARNING)\n"
     ]
    },
    {
     "name": "stdout",
     "output_type": "stream",
     "text": [
      "/Users/sorrosn/Desktop/ocr_images/postits/data_priority_area_all/notes/note66 [Open EHR].jpg\n"
     ]
    },
    {
     "name": "stderr",
     "output_type": "stream",
     "text": [
      "/Users/sorrosn/.virtualenvs/postit/lib/python3.6/site-packages/google/auth/_default.py:66: UserWarning: Your application has authenticated using end user credentials from Google Cloud SDK. We recommend that most server applications use service accounts instead. If your application continues to use end user credentials from Cloud SDK, you might receive a \"quota exceeded\" or \"API not enabled\" error. For more information about service accounts, see https://cloud.google.com/docs/authentication/.\n",
      "  warnings.warn(_CLOUD_SDK_CREDENTIALS_WARNING)\n"
     ]
    },
    {
     "name": "stdout",
     "output_type": "stream",
     "text": [
      "/Users/sorrosn/Desktop/ocr_images/postits/data_priority_area_all/notes/note67 [Open EHR].jpg\n"
     ]
    },
    {
     "name": "stderr",
     "output_type": "stream",
     "text": [
      "/Users/sorrosn/.virtualenvs/postit/lib/python3.6/site-packages/google/auth/_default.py:66: UserWarning: Your application has authenticated using end user credentials from Google Cloud SDK. We recommend that most server applications use service accounts instead. If your application continues to use end user credentials from Cloud SDK, you might receive a \"quota exceeded\" or \"API not enabled\" error. For more information about service accounts, see https://cloud.google.com/docs/authentication/.\n",
      "  warnings.warn(_CLOUD_SDK_CREDENTIALS_WARNING)\n"
     ]
    },
    {
     "name": "stdout",
     "output_type": "stream",
     "text": [
      "/Users/sorrosn/Desktop/ocr_images/postits/data_priority_area_all/notes/note68 [Open EHR].jpg\n"
     ]
    },
    {
     "name": "stderr",
     "output_type": "stream",
     "text": [
      "/Users/sorrosn/.virtualenvs/postit/lib/python3.6/site-packages/google/auth/_default.py:66: UserWarning: Your application has authenticated using end user credentials from Google Cloud SDK. We recommend that most server applications use service accounts instead. If your application continues to use end user credentials from Cloud SDK, you might receive a \"quota exceeded\" or \"API not enabled\" error. For more information about service accounts, see https://cloud.google.com/docs/authentication/.\n",
      "  warnings.warn(_CLOUD_SDK_CREDENTIALS_WARNING)\n"
     ]
    },
    {
     "name": "stdout",
     "output_type": "stream",
     "text": [
      "/Users/sorrosn/Desktop/ocr_images/postits/data_priority_area_all/notes/note69 [Open EHR].jpg\n"
     ]
    },
    {
     "name": "stderr",
     "output_type": "stream",
     "text": [
      "/Users/sorrosn/.virtualenvs/postit/lib/python3.6/site-packages/google/auth/_default.py:66: UserWarning: Your application has authenticated using end user credentials from Google Cloud SDK. We recommend that most server applications use service accounts instead. If your application continues to use end user credentials from Cloud SDK, you might receive a \"quota exceeded\" or \"API not enabled\" error. For more information about service accounts, see https://cloud.google.com/docs/authentication/.\n",
      "  warnings.warn(_CLOUD_SDK_CREDENTIALS_WARNING)\n"
     ]
    },
    {
     "name": "stdout",
     "output_type": "stream",
     "text": [
      "/Users/sorrosn/Desktop/ocr_images/postits/data_priority_area_all/notes/note70 [Open EHR].jpg\n"
     ]
    },
    {
     "name": "stderr",
     "output_type": "stream",
     "text": [
      "/Users/sorrosn/.virtualenvs/postit/lib/python3.6/site-packages/google/auth/_default.py:66: UserWarning: Your application has authenticated using end user credentials from Google Cloud SDK. We recommend that most server applications use service accounts instead. If your application continues to use end user credentials from Cloud SDK, you might receive a \"quota exceeded\" or \"API not enabled\" error. For more information about service accounts, see https://cloud.google.com/docs/authentication/.\n",
      "  warnings.warn(_CLOUD_SDK_CREDENTIALS_WARNING)\n"
     ]
    },
    {
     "name": "stdout",
     "output_type": "stream",
     "text": [
      "/Users/sorrosn/Desktop/ocr_images/postits/data_priority_area_all/notes/note71 [Open EHR].jpg\n"
     ]
    },
    {
     "name": "stderr",
     "output_type": "stream",
     "text": [
      "/Users/sorrosn/.virtualenvs/postit/lib/python3.6/site-packages/google/auth/_default.py:66: UserWarning: Your application has authenticated using end user credentials from Google Cloud SDK. We recommend that most server applications use service accounts instead. If your application continues to use end user credentials from Cloud SDK, you might receive a \"quota exceeded\" or \"API not enabled\" error. For more information about service accounts, see https://cloud.google.com/docs/authentication/.\n",
      "  warnings.warn(_CLOUD_SDK_CREDENTIALS_WARNING)\n"
     ]
    },
    {
     "name": "stdout",
     "output_type": "stream",
     "text": [
      "/Users/sorrosn/Desktop/ocr_images/postits/data_priority_area_all/notes/note72 [Open EHR].jpg\n"
     ]
    },
    {
     "name": "stderr",
     "output_type": "stream",
     "text": [
      "/Users/sorrosn/.virtualenvs/postit/lib/python3.6/site-packages/google/auth/_default.py:66: UserWarning: Your application has authenticated using end user credentials from Google Cloud SDK. We recommend that most server applications use service accounts instead. If your application continues to use end user credentials from Cloud SDK, you might receive a \"quota exceeded\" or \"API not enabled\" error. For more information about service accounts, see https://cloud.google.com/docs/authentication/.\n",
      "  warnings.warn(_CLOUD_SDK_CREDENTIALS_WARNING)\n"
     ]
    },
    {
     "name": "stdout",
     "output_type": "stream",
     "text": [
      "/Users/sorrosn/Desktop/ocr_images/postits/data_priority_area_all/notes/note73 [Open EHR].jpg\n"
     ]
    },
    {
     "name": "stderr",
     "output_type": "stream",
     "text": [
      "/Users/sorrosn/.virtualenvs/postit/lib/python3.6/site-packages/google/auth/_default.py:66: UserWarning: Your application has authenticated using end user credentials from Google Cloud SDK. We recommend that most server applications use service accounts instead. If your application continues to use end user credentials from Cloud SDK, you might receive a \"quota exceeded\" or \"API not enabled\" error. For more information about service accounts, see https://cloud.google.com/docs/authentication/.\n",
      "  warnings.warn(_CLOUD_SDK_CREDENTIALS_WARNING)\n"
     ]
    },
    {
     "name": "stdout",
     "output_type": "stream",
     "text": [
      "/Users/sorrosn/Desktop/ocr_images/postits/data_priority_area_all/notes/note74 [Open EHR].jpg\n"
     ]
    },
    {
     "name": "stderr",
     "output_type": "stream",
     "text": [
      "/Users/sorrosn/.virtualenvs/postit/lib/python3.6/site-packages/google/auth/_default.py:66: UserWarning: Your application has authenticated using end user credentials from Google Cloud SDK. We recommend that most server applications use service accounts instead. If your application continues to use end user credentials from Cloud SDK, you might receive a \"quota exceeded\" or \"API not enabled\" error. For more information about service accounts, see https://cloud.google.com/docs/authentication/.\n",
      "  warnings.warn(_CLOUD_SDK_CREDENTIALS_WARNING)\n"
     ]
    },
    {
     "name": "stdout",
     "output_type": "stream",
     "text": [
      "/Users/sorrosn/Desktop/ocr_images/postits/data_priority_area_all/notes/note75 [Open EHR].jpg\n"
     ]
    },
    {
     "name": "stderr",
     "output_type": "stream",
     "text": [
      "/Users/sorrosn/.virtualenvs/postit/lib/python3.6/site-packages/google/auth/_default.py:66: UserWarning: Your application has authenticated using end user credentials from Google Cloud SDK. We recommend that most server applications use service accounts instead. If your application continues to use end user credentials from Cloud SDK, you might receive a \"quota exceeded\" or \"API not enabled\" error. For more information about service accounts, see https://cloud.google.com/docs/authentication/.\n",
      "  warnings.warn(_CLOUD_SDK_CREDENTIALS_WARNING)\n"
     ]
    },
    {
     "name": "stdout",
     "output_type": "stream",
     "text": [
      "/Users/sorrosn/Desktop/ocr_images/postits/data_priority_area_all/notes/note76 [Open EHR].jpg\n"
     ]
    },
    {
     "name": "stderr",
     "output_type": "stream",
     "text": [
      "/Users/sorrosn/.virtualenvs/postit/lib/python3.6/site-packages/google/auth/_default.py:66: UserWarning: Your application has authenticated using end user credentials from Google Cloud SDK. We recommend that most server applications use service accounts instead. If your application continues to use end user credentials from Cloud SDK, you might receive a \"quota exceeded\" or \"API not enabled\" error. For more information about service accounts, see https://cloud.google.com/docs/authentication/.\n",
      "  warnings.warn(_CLOUD_SDK_CREDENTIALS_WARNING)\n"
     ]
    },
    {
     "name": "stdout",
     "output_type": "stream",
     "text": [
      "/Users/sorrosn/Desktop/ocr_images/postits/data_priority_area_all/notes/note77 [Open EHR].jpg\n"
     ]
    },
    {
     "name": "stderr",
     "output_type": "stream",
     "text": [
      "/Users/sorrosn/.virtualenvs/postit/lib/python3.6/site-packages/google/auth/_default.py:66: UserWarning: Your application has authenticated using end user credentials from Google Cloud SDK. We recommend that most server applications use service accounts instead. If your application continues to use end user credentials from Cloud SDK, you might receive a \"quota exceeded\" or \"API not enabled\" error. For more information about service accounts, see https://cloud.google.com/docs/authentication/.\n",
      "  warnings.warn(_CLOUD_SDK_CREDENTIALS_WARNING)\n"
     ]
    },
    {
     "name": "stdout",
     "output_type": "stream",
     "text": [
      "/Users/sorrosn/Desktop/ocr_images/postits/data_priority_area_all/notes/note78 [Open EHR].jpg\n"
     ]
    },
    {
     "name": "stderr",
     "output_type": "stream",
     "text": [
      "/Users/sorrosn/.virtualenvs/postit/lib/python3.6/site-packages/google/auth/_default.py:66: UserWarning: Your application has authenticated using end user credentials from Google Cloud SDK. We recommend that most server applications use service accounts instead. If your application continues to use end user credentials from Cloud SDK, you might receive a \"quota exceeded\" or \"API not enabled\" error. For more information about service accounts, see https://cloud.google.com/docs/authentication/.\n",
      "  warnings.warn(_CLOUD_SDK_CREDENTIALS_WARNING)\n"
     ]
    },
    {
     "name": "stdout",
     "output_type": "stream",
     "text": [
      "/Users/sorrosn/Desktop/ocr_images/postits/data_priority_area_all/notes/note79 [Open EHR].jpg\n"
     ]
    },
    {
     "name": "stderr",
     "output_type": "stream",
     "text": [
      "/Users/sorrosn/.virtualenvs/postit/lib/python3.6/site-packages/google/auth/_default.py:66: UserWarning: Your application has authenticated using end user credentials from Google Cloud SDK. We recommend that most server applications use service accounts instead. If your application continues to use end user credentials from Cloud SDK, you might receive a \"quota exceeded\" or \"API not enabled\" error. For more information about service accounts, see https://cloud.google.com/docs/authentication/.\n",
      "  warnings.warn(_CLOUD_SDK_CREDENTIALS_WARNING)\n"
     ]
    },
    {
     "name": "stdout",
     "output_type": "stream",
     "text": [
      "/Users/sorrosn/Desktop/ocr_images/postits/data_priority_area_all/notes/note80 [Open EHR].jpg\n"
     ]
    },
    {
     "name": "stderr",
     "output_type": "stream",
     "text": [
      "/Users/sorrosn/.virtualenvs/postit/lib/python3.6/site-packages/google/auth/_default.py:66: UserWarning: Your application has authenticated using end user credentials from Google Cloud SDK. We recommend that most server applications use service accounts instead. If your application continues to use end user credentials from Cloud SDK, you might receive a \"quota exceeded\" or \"API not enabled\" error. For more information about service accounts, see https://cloud.google.com/docs/authentication/.\n",
      "  warnings.warn(_CLOUD_SDK_CREDENTIALS_WARNING)\n"
     ]
    },
    {
     "name": "stdout",
     "output_type": "stream",
     "text": [
      "/Users/sorrosn/Desktop/ocr_images/postits/data_priority_area_all/notes/note81 [Open EHR].jpg\n"
     ]
    },
    {
     "name": "stderr",
     "output_type": "stream",
     "text": [
      "/Users/sorrosn/.virtualenvs/postit/lib/python3.6/site-packages/google/auth/_default.py:66: UserWarning: Your application has authenticated using end user credentials from Google Cloud SDK. We recommend that most server applications use service accounts instead. If your application continues to use end user credentials from Cloud SDK, you might receive a \"quota exceeded\" or \"API not enabled\" error. For more information about service accounts, see https://cloud.google.com/docs/authentication/.\n",
      "  warnings.warn(_CLOUD_SDK_CREDENTIALS_WARNING)\n"
     ]
    },
    {
     "name": "stdout",
     "output_type": "stream",
     "text": [
      "/Users/sorrosn/Desktop/ocr_images/postits/data_priority_area_all/notes/note82 [Open EHR].jpg\n"
     ]
    },
    {
     "name": "stderr",
     "output_type": "stream",
     "text": [
      "/Users/sorrosn/.virtualenvs/postit/lib/python3.6/site-packages/google/auth/_default.py:66: UserWarning: Your application has authenticated using end user credentials from Google Cloud SDK. We recommend that most server applications use service accounts instead. If your application continues to use end user credentials from Cloud SDK, you might receive a \"quota exceeded\" or \"API not enabled\" error. For more information about service accounts, see https://cloud.google.com/docs/authentication/.\n",
      "  warnings.warn(_CLOUD_SDK_CREDENTIALS_WARNING)\n"
     ]
    },
    {
     "name": "stdout",
     "output_type": "stream",
     "text": [
      "/Users/sorrosn/Desktop/ocr_images/postits/data_priority_area_all/notes/note83 [Open EHR].jpg\n"
     ]
    },
    {
     "name": "stderr",
     "output_type": "stream",
     "text": [
      "/Users/sorrosn/.virtualenvs/postit/lib/python3.6/site-packages/google/auth/_default.py:66: UserWarning: Your application has authenticated using end user credentials from Google Cloud SDK. We recommend that most server applications use service accounts instead. If your application continues to use end user credentials from Cloud SDK, you might receive a \"quota exceeded\" or \"API not enabled\" error. For more information about service accounts, see https://cloud.google.com/docs/authentication/.\n",
      "  warnings.warn(_CLOUD_SDK_CREDENTIALS_WARNING)\n"
     ]
    },
    {
     "name": "stdout",
     "output_type": "stream",
     "text": [
      "/Users/sorrosn/Desktop/ocr_images/postits/data_priority_area_all/notes/note84 [Open EHR].jpg\n"
     ]
    },
    {
     "name": "stderr",
     "output_type": "stream",
     "text": [
      "/Users/sorrosn/.virtualenvs/postit/lib/python3.6/site-packages/google/auth/_default.py:66: UserWarning: Your application has authenticated using end user credentials from Google Cloud SDK. We recommend that most server applications use service accounts instead. If your application continues to use end user credentials from Cloud SDK, you might receive a \"quota exceeded\" or \"API not enabled\" error. For more information about service accounts, see https://cloud.google.com/docs/authentication/.\n",
      "  warnings.warn(_CLOUD_SDK_CREDENTIALS_WARNING)\n"
     ]
    },
    {
     "name": "stdout",
     "output_type": "stream",
     "text": [
      "/Users/sorrosn/Desktop/ocr_images/postits/data_priority_area_all/notes/note85 [Ready ML models].jpg\n"
     ]
    },
    {
     "name": "stderr",
     "output_type": "stream",
     "text": [
      "/Users/sorrosn/.virtualenvs/postit/lib/python3.6/site-packages/google/auth/_default.py:66: UserWarning: Your application has authenticated using end user credentials from Google Cloud SDK. We recommend that most server applications use service accounts instead. If your application continues to use end user credentials from Cloud SDK, you might receive a \"quota exceeded\" or \"API not enabled\" error. For more information about service accounts, see https://cloud.google.com/docs/authentication/.\n",
      "  warnings.warn(_CLOUD_SDK_CREDENTIALS_WARNING)\n"
     ]
    },
    {
     "name": "stdout",
     "output_type": "stream",
     "text": [
      "/Users/sorrosn/Desktop/ocr_images/postits/data_priority_area_all/notes/note86 [Ready ML models].jpg\n"
     ]
    },
    {
     "name": "stderr",
     "output_type": "stream",
     "text": [
      "/Users/sorrosn/.virtualenvs/postit/lib/python3.6/site-packages/google/auth/_default.py:66: UserWarning: Your application has authenticated using end user credentials from Google Cloud SDK. We recommend that most server applications use service accounts instead. If your application continues to use end user credentials from Cloud SDK, you might receive a \"quota exceeded\" or \"API not enabled\" error. For more information about service accounts, see https://cloud.google.com/docs/authentication/.\n",
      "  warnings.warn(_CLOUD_SDK_CREDENTIALS_WARNING)\n"
     ]
    },
    {
     "name": "stdout",
     "output_type": "stream",
     "text": [
      "/Users/sorrosn/Desktop/ocr_images/postits/data_priority_area_all/notes/note87 [Ready ML models].jpg\n"
     ]
    },
    {
     "name": "stderr",
     "output_type": "stream",
     "text": [
      "/Users/sorrosn/.virtualenvs/postit/lib/python3.6/site-packages/google/auth/_default.py:66: UserWarning: Your application has authenticated using end user credentials from Google Cloud SDK. We recommend that most server applications use service accounts instead. If your application continues to use end user credentials from Cloud SDK, you might receive a \"quota exceeded\" or \"API not enabled\" error. For more information about service accounts, see https://cloud.google.com/docs/authentication/.\n",
      "  warnings.warn(_CLOUD_SDK_CREDENTIALS_WARNING)\n"
     ]
    },
    {
     "name": "stdout",
     "output_type": "stream",
     "text": [
      "/Users/sorrosn/Desktop/ocr_images/postits/data_priority_area_all/notes/note88 [Ready ML models].jpg\n"
     ]
    },
    {
     "name": "stderr",
     "output_type": "stream",
     "text": [
      "/Users/sorrosn/.virtualenvs/postit/lib/python3.6/site-packages/google/auth/_default.py:66: UserWarning: Your application has authenticated using end user credentials from Google Cloud SDK. We recommend that most server applications use service accounts instead. If your application continues to use end user credentials from Cloud SDK, you might receive a \"quota exceeded\" or \"API not enabled\" error. For more information about service accounts, see https://cloud.google.com/docs/authentication/.\n",
      "  warnings.warn(_CLOUD_SDK_CREDENTIALS_WARNING)\n"
     ]
    },
    {
     "name": "stdout",
     "output_type": "stream",
     "text": [
      "/Users/sorrosn/Desktop/ocr_images/postits/data_priority_area_all/notes/note89 [Ready ML models].jpg\n"
     ]
    },
    {
     "name": "stderr",
     "output_type": "stream",
     "text": [
      "/Users/sorrosn/.virtualenvs/postit/lib/python3.6/site-packages/google/auth/_default.py:66: UserWarning: Your application has authenticated using end user credentials from Google Cloud SDK. We recommend that most server applications use service accounts instead. If your application continues to use end user credentials from Cloud SDK, you might receive a \"quota exceeded\" or \"API not enabled\" error. For more information about service accounts, see https://cloud.google.com/docs/authentication/.\n",
      "  warnings.warn(_CLOUD_SDK_CREDENTIALS_WARNING)\n"
     ]
    },
    {
     "name": "stdout",
     "output_type": "stream",
     "text": [
      "/Users/sorrosn/Desktop/ocr_images/postits/data_priority_area_all/notes/note90 [Ready ML models].jpg\n"
     ]
    },
    {
     "name": "stderr",
     "output_type": "stream",
     "text": [
      "/Users/sorrosn/.virtualenvs/postit/lib/python3.6/site-packages/google/auth/_default.py:66: UserWarning: Your application has authenticated using end user credentials from Google Cloud SDK. We recommend that most server applications use service accounts instead. If your application continues to use end user credentials from Cloud SDK, you might receive a \"quota exceeded\" or \"API not enabled\" error. For more information about service accounts, see https://cloud.google.com/docs/authentication/.\n",
      "  warnings.warn(_CLOUD_SDK_CREDENTIALS_WARNING)\n"
     ]
    },
    {
     "name": "stdout",
     "output_type": "stream",
     "text": [
      "/Users/sorrosn/Desktop/ocr_images/postits/data_priority_area_all/notes/note91 [Ready ML models].jpg\n"
     ]
    },
    {
     "name": "stderr",
     "output_type": "stream",
     "text": [
      "/Users/sorrosn/.virtualenvs/postit/lib/python3.6/site-packages/google/auth/_default.py:66: UserWarning: Your application has authenticated using end user credentials from Google Cloud SDK. We recommend that most server applications use service accounts instead. If your application continues to use end user credentials from Cloud SDK, you might receive a \"quota exceeded\" or \"API not enabled\" error. For more information about service accounts, see https://cloud.google.com/docs/authentication/.\n",
      "  warnings.warn(_CLOUD_SDK_CREDENTIALS_WARNING)\n"
     ]
    },
    {
     "name": "stdout",
     "output_type": "stream",
     "text": [
      "/Users/sorrosn/Desktop/ocr_images/postits/data_priority_area_all/notes/note92 [Ready ML models].jpg\n"
     ]
    },
    {
     "name": "stderr",
     "output_type": "stream",
     "text": [
      "/Users/sorrosn/.virtualenvs/postit/lib/python3.6/site-packages/google/auth/_default.py:66: UserWarning: Your application has authenticated using end user credentials from Google Cloud SDK. We recommend that most server applications use service accounts instead. If your application continues to use end user credentials from Cloud SDK, you might receive a \"quota exceeded\" or \"API not enabled\" error. For more information about service accounts, see https://cloud.google.com/docs/authentication/.\n",
      "  warnings.warn(_CLOUD_SDK_CREDENTIALS_WARNING)\n"
     ]
    },
    {
     "name": "stdout",
     "output_type": "stream",
     "text": [
      "/Users/sorrosn/Desktop/ocr_images/postits/data_priority_area_all/notes/note93 [Ready ML models].jpg\n"
     ]
    },
    {
     "name": "stderr",
     "output_type": "stream",
     "text": [
      "/Users/sorrosn/.virtualenvs/postit/lib/python3.6/site-packages/google/auth/_default.py:66: UserWarning: Your application has authenticated using end user credentials from Google Cloud SDK. We recommend that most server applications use service accounts instead. If your application continues to use end user credentials from Cloud SDK, you might receive a \"quota exceeded\" or \"API not enabled\" error. For more information about service accounts, see https://cloud.google.com/docs/authentication/.\n",
      "  warnings.warn(_CLOUD_SDK_CREDENTIALS_WARNING)\n"
     ]
    },
    {
     "name": "stdout",
     "output_type": "stream",
     "text": [
      "/Users/sorrosn/Desktop/ocr_images/postits/data_priority_area_all/notes/note94 [Ready ML models].jpg\n"
     ]
    },
    {
     "name": "stderr",
     "output_type": "stream",
     "text": [
      "/Users/sorrosn/.virtualenvs/postit/lib/python3.6/site-packages/google/auth/_default.py:66: UserWarning: Your application has authenticated using end user credentials from Google Cloud SDK. We recommend that most server applications use service accounts instead. If your application continues to use end user credentials from Cloud SDK, you might receive a \"quota exceeded\" or \"API not enabled\" error. For more information about service accounts, see https://cloud.google.com/docs/authentication/.\n",
      "  warnings.warn(_CLOUD_SDK_CREDENTIALS_WARNING)\n"
     ]
    },
    {
     "name": "stdout",
     "output_type": "stream",
     "text": [
      "/Users/sorrosn/Desktop/ocr_images/postits/data_priority_area_all/notes/note95 [Ready ML models].jpg\n"
     ]
    },
    {
     "name": "stderr",
     "output_type": "stream",
     "text": [
      "/Users/sorrosn/.virtualenvs/postit/lib/python3.6/site-packages/google/auth/_default.py:66: UserWarning: Your application has authenticated using end user credentials from Google Cloud SDK. We recommend that most server applications use service accounts instead. If your application continues to use end user credentials from Cloud SDK, you might receive a \"quota exceeded\" or \"API not enabled\" error. For more information about service accounts, see https://cloud.google.com/docs/authentication/.\n",
      "  warnings.warn(_CLOUD_SDK_CREDENTIALS_WARNING)\n"
     ]
    },
    {
     "name": "stdout",
     "output_type": "stream",
     "text": [
      "/Users/sorrosn/Desktop/ocr_images/postits/data_priority_area_all/notes/note96 [Ready ML models].jpg\n"
     ]
    },
    {
     "name": "stderr",
     "output_type": "stream",
     "text": [
      "/Users/sorrosn/.virtualenvs/postit/lib/python3.6/site-packages/google/auth/_default.py:66: UserWarning: Your application has authenticated using end user credentials from Google Cloud SDK. We recommend that most server applications use service accounts instead. If your application continues to use end user credentials from Cloud SDK, you might receive a \"quota exceeded\" or \"API not enabled\" error. For more information about service accounts, see https://cloud.google.com/docs/authentication/.\n",
      "  warnings.warn(_CLOUD_SDK_CREDENTIALS_WARNING)\n"
     ]
    },
    {
     "name": "stdout",
     "output_type": "stream",
     "text": [
      "/Users/sorrosn/Desktop/ocr_images/postits/data_priority_area_all/notes/note97 [Ready ML models].jpg\n"
     ]
    },
    {
     "name": "stderr",
     "output_type": "stream",
     "text": [
      "/Users/sorrosn/.virtualenvs/postit/lib/python3.6/site-packages/google/auth/_default.py:66: UserWarning: Your application has authenticated using end user credentials from Google Cloud SDK. We recommend that most server applications use service accounts instead. If your application continues to use end user credentials from Cloud SDK, you might receive a \"quota exceeded\" or \"API not enabled\" error. For more information about service accounts, see https://cloud.google.com/docs/authentication/.\n",
      "  warnings.warn(_CLOUD_SDK_CREDENTIALS_WARNING)\n"
     ]
    },
    {
     "name": "stdout",
     "output_type": "stream",
     "text": [
      "/Users/sorrosn/Desktop/ocr_images/postits/data_priority_area_all/notes/note98 [Data counceling].jpg\n"
     ]
    },
    {
     "name": "stderr",
     "output_type": "stream",
     "text": [
      "/Users/sorrosn/.virtualenvs/postit/lib/python3.6/site-packages/google/auth/_default.py:66: UserWarning: Your application has authenticated using end user credentials from Google Cloud SDK. We recommend that most server applications use service accounts instead. If your application continues to use end user credentials from Cloud SDK, you might receive a \"quota exceeded\" or \"API not enabled\" error. For more information about service accounts, see https://cloud.google.com/docs/authentication/.\n",
      "  warnings.warn(_CLOUD_SDK_CREDENTIALS_WARNING)\n"
     ]
    },
    {
     "name": "stdout",
     "output_type": "stream",
     "text": [
      "/Users/sorrosn/Desktop/ocr_images/postits/data_priority_area_all/notes/note99 [Data counceling].jpg\n"
     ]
    },
    {
     "name": "stderr",
     "output_type": "stream",
     "text": [
      "/Users/sorrosn/.virtualenvs/postit/lib/python3.6/site-packages/google/auth/_default.py:66: UserWarning: Your application has authenticated using end user credentials from Google Cloud SDK. We recommend that most server applications use service accounts instead. If your application continues to use end user credentials from Cloud SDK, you might receive a \"quota exceeded\" or \"API not enabled\" error. For more information about service accounts, see https://cloud.google.com/docs/authentication/.\n",
      "  warnings.warn(_CLOUD_SDK_CREDENTIALS_WARNING)\n"
     ]
    }
   ],
   "source": [
    "PROJECT_PATH = '../../data/postits'\n",
    "FOLDER = 'data_priority_area_all'\n",
    "IMAGES_PATH = f'{PROJECT_PATH}/{FOLDER}/notes'\n",
    "TEXT_PATH = f'{PROJECT_PATH}/{FOLDER}/text'\n",
    "GROUP_PATTERN = '(?<=\\[)(.*)(?=\\])'\n",
    "\n",
    "img_data = []\n",
    "for img_name in os.listdir(f'{IMAGES_PATH}'):\n",
    "    print(f'{IMAGES_PATH}/{img_name}')\n",
    "    img_group = re.search(GROUP_PATTERN, img_name).group(0)\n",
    "    \n",
    "    txt_name = img_name.replace('jpg', 'txt')\n",
    "    if os.path.isfile(f'{TEXT_PATH}/{txt_name}'):\n",
    "        img_text = open(f'{TEXT_PATH}/{txt_name}').read()\n",
    "    else:\n",
    "        img_text = detect_handwritten_ocr(f'{IMAGES_PATH}/{img_name}')\n",
    "        with open(f'{TEXT_PATH}/{txt_name}', 'w') as f:\n",
    "            f.write(img_text)\n",
    "    \n",
    "    img_data.append({\n",
    "        'name': img_name,\n",
    "        'group': img_group,\n",
    "        'text': img_text\n",
    "    })"
   ]
  },
  {
   "cell_type": "code",
   "execution_count": 4,
   "metadata": {},
   "outputs": [
    {
     "data": {
      "text/html": [
       "<div>\n",
       "<style scoped>\n",
       "    .dataframe tbody tr th:only-of-type {\n",
       "        vertical-align: middle;\n",
       "    }\n",
       "\n",
       "    .dataframe tbody tr th {\n",
       "        vertical-align: top;\n",
       "    }\n",
       "\n",
       "    .dataframe thead th {\n",
       "        text-align: right;\n",
       "    }\n",
       "</style>\n",
       "<table border=\"1\" class=\"dataframe\">\n",
       "  <thead>\n",
       "    <tr style=\"text-align: right;\">\n",
       "      <th></th>\n",
       "      <th>group</th>\n",
       "      <th>name</th>\n",
       "      <th>text</th>\n",
       "    </tr>\n",
       "  </thead>\n",
       "  <tbody>\n",
       "    <tr>\n",
       "      <th>0</th>\n",
       "      <td>Data cleaning</td>\n",
       "      <td>note01 [Data cleaning].jpg</td>\n",
       "      <td>807 OF BIOB\\nINFORMANES IS\\nCLEANING ZORG\\nis ...</td>\n",
       "    </tr>\n",
       "    <tr>\n",
       "      <th>1</th>\n",
       "      <td>Data cleaning</td>\n",
       "      <td>note02 [Data cleaning].jpg</td>\n",
       "      <td>Data cleaning\\ngoolines of code,\\ntoo was abou...</td>\n",
       "    </tr>\n",
       "    <tr>\n",
       "      <th>2</th>\n",
       "      <td>Data cleaning</td>\n",
       "      <td>note03 [Data cleaning].jpg</td>\n",
       "      <td>Data cleaning\\nBiggest challenge\\nI think we h...</td>\n",
       "    </tr>\n",
       "    <tr>\n",
       "      <th>3</th>\n",
       "      <td>Data cleaning</td>\n",
       "      <td>note04 [Data cleaning].jpg</td>\n",
       "      <td>CLEANING DATA ..\\nESSENTIAL, UN-\\nREWALED A Wi...</td>\n",
       "    </tr>\n",
       "    <tr>\n",
       "      <th>4</th>\n",
       "      <td>Data cleaning</td>\n",
       "      <td>note05 [Data cleaning].jpg</td>\n",
       "      <td>THAT IS PROSAIC\\nBUT NEARU Tape\\nINSURMOUNTABL...</td>\n",
       "    </tr>\n",
       "  </tbody>\n",
       "</table>\n",
       "</div>"
      ],
      "text/plain": [
       "           group                        name  \\\n",
       "0  Data cleaning  note01 [Data cleaning].jpg   \n",
       "1  Data cleaning  note02 [Data cleaning].jpg   \n",
       "2  Data cleaning  note03 [Data cleaning].jpg   \n",
       "3  Data cleaning  note04 [Data cleaning].jpg   \n",
       "4  Data cleaning  note05 [Data cleaning].jpg   \n",
       "\n",
       "                                                text  \n",
       "0  807 OF BIOB\\nINFORMANES IS\\nCLEANING ZORG\\nis ...  \n",
       "1  Data cleaning\\ngoolines of code,\\ntoo was abou...  \n",
       "2  Data cleaning\\nBiggest challenge\\nI think we h...  \n",
       "3  CLEANING DATA ..\\nESSENTIAL, UN-\\nREWALED A Wi...  \n",
       "4  THAT IS PROSAIC\\nBUT NEARU Tape\\nINSURMOUNTABL...  "
      ]
     },
     "execution_count": 4,
     "metadata": {},
     "output_type": "execute_result"
    }
   ],
   "source": [
    "img_data = pd.DataFrame(img_data)\n",
    "img_data.head()"
   ]
  },
  {
   "cell_type": "code",
   "execution_count": 5,
   "metadata": {},
   "outputs": [],
   "source": [
    "def preprocess_text(text):\n",
    "    clean_text = text.lower()\n",
    "    clean_text = remove_stopwords(clean_text)\n",
    "    clean_text = strip_multiple_whitespaces(clean_text)\n",
    "    clean_text = strip_punctuation(clean_text)\n",
    "    clean_text = strip_tags(clean_text)\n",
    "    clean_text = stem_text(clean_text)\n",
    "    clean_text = strip_short(clean_text, minsize=4)\n",
    "    return clean_text"
   ]
  },
  {
   "cell_type": "code",
   "execution_count": 6,
   "metadata": {},
   "outputs": [],
   "source": [
    "img_data['clean_text'] = img_data['text'].apply(preprocess_text)"
   ]
  },
  {
   "cell_type": "code",
   "execution_count": 7,
   "metadata": {},
   "outputs": [],
   "source": [
    "img_data.to_csv(f'{PROJECT_PATH}/{FOLDER}.csv')"
   ]
  },
  {
   "cell_type": "code",
   "execution_count": null,
   "metadata": {},
   "outputs": [],
   "source": []
  }
 ],
 "metadata": {
  "kernelspec": {
   "display_name": "Python 3",
   "language": "python",
   "name": "python3"
  },
  "language_info": {
   "codemirror_mode": {
    "name": "ipython",
    "version": 3
   },
   "file_extension": ".py",
   "mimetype": "text/x-python",
   "name": "python",
   "nbconvert_exporter": "python",
   "pygments_lexer": "ipython3",
   "version": "3.6.5"
  }
 },
 "nbformat": 4,
 "nbformat_minor": 2
}
