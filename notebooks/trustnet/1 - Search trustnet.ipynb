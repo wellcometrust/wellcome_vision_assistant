{
 "cells": [
  {
   "cell_type": "code",
   "execution_count": 3,
   "metadata": {},
   "outputs": [],
   "source": [
    "import requests\n",
    "import os"
   ]
  },
  {
   "cell_type": "code",
   "execution_count": 4,
   "metadata": {},
   "outputs": [],
   "source": [
    "email = 'n.sorros@wellcome.ac.uk'\n",
    "password = os.environ['WELLCOME_PASSWORD']"
   ]
  },
  {
   "cell_type": "code",
   "execution_count": 30,
   "metadata": {},
   "outputs": [],
   "source": [
    "params = {\n",
    "    'name': email,\n",
    "    'pass': password,\n",
    "    'persistent_login': 1,\n",
    "    'form_build_id': 'form-HHFbtyvCmJwY4DsIEa4pptCmTkJADmpWLGV2cnpDSi4',\n",
    "    'form_id': 'user_login',\n",
    "    'op': 'Log in'\n",
    "}\n",
    "session = requests.session()\n",
    "r = session.post('https://trustnet.wellcome.ac.uk/user/login?destination=node/62', params)\n",
    "r.raise_for_status()\n",
    "r.status_code  # always 200! need to check HTML for login form to verify login\n",
    "\n",
    "r = session.get('https://trustnet.wellcome.ac.uk/news/four-day-week-we-want-hear-your-views')\n",
    "\n",
    "with open('/tmp/out.html', 'w') as f:\n",
    "    f.write(r.text)"
   ]
  },
  {
   "cell_type": "code",
   "execution_count": null,
   "metadata": {},
   "outputs": [],
   "source": []
  }
 ],
 "metadata": {
  "kernelspec": {
   "display_name": "Python 3",
   "language": "python",
   "name": "python3"
  },
  "language_info": {
   "codemirror_mode": {
    "name": "ipython",
    "version": 3
   },
   "file_extension": ".py",
   "mimetype": "text/x-python",
   "name": "python",
   "nbconvert_exporter": "python",
   "pygments_lexer": "ipython3",
   "version": "3.6.5"
  }
 },
 "nbformat": 4,
 "nbformat_minor": 2
}
